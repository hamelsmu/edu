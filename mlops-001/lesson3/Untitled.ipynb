{
 "cells": [
  {
   "cell_type": "markdown",
   "id": "02130c7c-f7b8-48f3-8948-03b96238141d",
   "metadata": {},
   "source": [
    "# Get Artifacts"
   ]
  },
  {
   "cell_type": "code",
   "execution_count": 6,
   "id": "5dd61c2c-6ca1-4734-a492-c7ccabe07307",
   "metadata": {},
   "outputs": [],
   "source": [
    "import wandb\n",
    "api = wandb.Api()\n",
    "proj = 'av-team/mlops-course-001'"
   ]
  },
  {
   "cell_type": "markdown",
   "id": "3610234c-3dbf-41f9-9164-c2bdafd6c4af",
   "metadata": {},
   "source": [
    "## Get latest"
   ]
  },
  {
   "cell_type": "code",
   "execution_count": 7,
   "id": "0f3911bd-4be5-4b22-8a95-4757265de197",
   "metadata": {},
   "outputs": [],
   "source": [
    "artifact = api.artifact(f'{proj}/model:latest')"
   ]
  },
  {
   "cell_type": "code",
   "execution_count": 8,
   "id": "e63fdb1d-80d3-4dae-bc92-0673316aaad3",
   "metadata": {},
   "outputs": [
    {
     "name": "stderr",
     "output_type": "stream",
     "text": [
      "\u001b[34m\u001b[1mwandb\u001b[0m: Downloading large artifact model:latest, 157.41MB. 1 files... \n",
      "\u001b[34m\u001b[1mwandb\u001b[0m:   1 of 1 files downloaded.  \n",
      "Done. 0:0:0.0\n"
     ]
    },
    {
     "name": "stdout",
     "output_type": "stream",
     "text": [
      "model.pth\n"
     ]
    }
   ],
   "source": [
    "path = artifact.download()\n",
    "! ls {path}"
   ]
  },
  {
   "cell_type": "markdown",
   "id": "c1675a44-8b49-46b5-8797-525b8e6520e0",
   "metadata": {},
   "source": [
    "## Get From Label"
   ]
  },
  {
   "cell_type": "code",
   "execution_count": 40,
   "id": "b60ef171-6bd2-40b2-af39-9be976b3b96c",
   "metadata": {},
   "outputs": [
    {
     "data": {
      "text/plain": [
       "[<Run av-team/mlops-course-001/bk06v1xy (finished)>]"
      ]
     },
     "execution_count": 40,
     "metadata": {},
     "output_type": "execute_result"
    }
   ],
   "source": [
    "def get_candidates(proj):\n",
    "    return [run for run in api.runs(proj) if 'candidate' in run.tags]\n",
    "\n",
    "candidates = get_candidates(proj)\n",
    "candidates"
   ]
  },
  {
   "cell_type": "code",
   "execution_count": 41,
   "id": "f8b1a141-9cbb-431e-80a9-d39bc95a5dd6",
   "metadata": {},
   "outputs": [
    {
     "data": {
      "text/html": [
       "<iframe src=\"https://wandb.ai/av-team/mlops-course-001/runs/bk06v1xy?jupyter=true\" style=\"border:none;width:100%;height:420px;\"></iframe>"
      ],
      "text/plain": [
       "<Run av-team/mlops-course-001/bk06v1xy (finished)>"
      ]
     },
     "execution_count": 41,
     "metadata": {},
     "output_type": "execute_result"
    }
   ],
   "source": [
    "run = candidates[0]\n",
    "run"
   ]
  },
  {
   "cell_type": "code",
   "execution_count": 42,
   "id": "7069d006-468a-44ba-9efb-bc6e51ad685c",
   "metadata": {},
   "outputs": [
    {
     "data": {
      "text/plain": [
       "[<Artifact QXJ0aWZhY3Q6MjgyOTk4OTg1>]"
      ]
     },
     "execution_count": 42,
     "metadata": {},
     "output_type": "execute_result"
    }
   ],
   "source": [
    "models = [a for a in run.logged_artifacts() if a.name.startswith('model:')]\n",
    "models"
   ]
  },
  {
   "cell_type": "code",
   "execution_count": 44,
   "id": "9debb247-0b66-434a-940f-5fec7e833ee4",
   "metadata": {},
   "outputs": [
    {
     "data": {
      "text/plain": [
       "'model:v245'"
      ]
     },
     "execution_count": 44,
     "metadata": {},
     "output_type": "execute_result"
    }
   ],
   "source": [
    "models[0].name"
   ]
  },
  {
   "cell_type": "code",
   "execution_count": 45,
   "id": "d4746df4-c806-485f-883b-77c9c6eca50e",
   "metadata": {},
   "outputs": [
    {
     "name": "stderr",
     "output_type": "stream",
     "text": [
      "\u001b[34m\u001b[1mwandb\u001b[0m: Downloading large artifact model:v245, 237.05MB. 1 files... \n",
      "\u001b[34m\u001b[1mwandb\u001b[0m:   1 of 1 files downloaded.  \n",
      "Done. 0:0:10.2\n"
     ]
    },
    {
     "data": {
      "text/plain": [
       "'./artifacts/model:v245'"
      ]
     },
     "execution_count": 45,
     "metadata": {},
     "output_type": "execute_result"
    }
   ],
   "source": [
    "model_path = models[0].download()\n",
    "model_path"
   ]
  },
  {
   "cell_type": "code",
   "execution_count": 47,
   "id": "b41e37bf-a991-46b2-a165-ea2ef7414777",
   "metadata": {},
   "outputs": [
    {
     "name": "stdout",
     "output_type": "stream",
     "text": [
      "model.pth\n"
     ]
    }
   ],
   "source": [
    "!ls {model_path}"
   ]
  },
  {
   "cell_type": "code",
   "execution_count": 54,
   "id": "3384a39c-16ff-434a-95aa-95e57d799954",
   "metadata": {},
   "outputs": [
    {
     "data": {
      "text/plain": [
       "['artifact/282998985/wandb_manifest.json',\n",
       " 'conda-environment.yaml',\n",
       " 'config.yaml',\n",
       " 'output.log',\n",
       " 'requirements.txt',\n",
       " 'wandb-metadata.json',\n",
       " 'wandb-summary.json']"
      ]
     },
     "execution_count": 54,
     "metadata": {},
     "output_type": "execute_result"
    }
   ],
   "source": [
    "[r.name for r in run.files()]"
   ]
  },
  {
   "cell_type": "code",
   "execution_count": 55,
   "id": "61615741-9bc7-4c64-a42f-8d8bde363e9a",
   "metadata": {},
   "outputs": [
    {
     "data": {
      "text/plain": [
       "'bk06v1xy'"
      ]
     },
     "execution_count": 55,
     "metadata": {},
     "output_type": "execute_result"
    }
   ],
   "source": [
    "run.id"
   ]
  },
  {
   "cell_type": "code",
   "execution_count": 56,
   "id": "2b126dfe-c3c7-44b6-a846-552d5150baf4",
   "metadata": {},
   "outputs": [
    {
     "data": {
      "text/plain": [
       "'UnVuOnYxOmJrMDZ2MXh5Om1sb3BzLWNvdXJzZS0wMDE6YXYtdGVhbQ=='"
      ]
     },
     "execution_count": 56,
     "metadata": {},
     "output_type": "execute_result"
    }
   ],
   "source": [
    "run.storage_id"
   ]
  },
  {
   "cell_type": "code",
   "execution_count": 59,
   "id": "8e10ed5d-28a5-4e8d-bcf7-40d8ee62feb6",
   "metadata": {},
   "outputs": [
    {
     "name": "stdout",
     "output_type": "stream",
     "text": [
      "bdd_simple_1k_split:v0\n",
      "model:v245\n"
     ]
    }
   ],
   "source": [
    "for r in run.used_artifacts(): print(r.name)\n",
    "\n",
    "for r in run.logged_artifacts(): print(r.name)"
   ]
  },
  {
   "cell_type": "code",
   "execution_count": null,
   "id": "d160b5e0-4f68-46f9-8ca7-745b02cad9fd",
   "metadata": {},
   "outputs": [],
   "source": []
  }
 ],
 "metadata": {
  "kernelspec": {
   "display_name": "Python 3 (ipykernel)",
   "language": "python",
   "name": "python3"
  },
  "language_info": {
   "codemirror_mode": {
    "name": "ipython",
    "version": 3
   },
   "file_extension": ".py",
   "mimetype": "text/x-python",
   "name": "python",
   "nbconvert_exporter": "python",
   "pygments_lexer": "ipython3",
   "version": "3.9.7"
  }
 },
 "nbformat": 4,
 "nbformat_minor": 5
}
